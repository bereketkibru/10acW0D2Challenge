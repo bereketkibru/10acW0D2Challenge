{
 "cells": [
  {
   "cell_type": "markdown",
   "metadata": {
    "id": "zDwep1K8Erxl"
   },
   "source": [
    "**Project:** Data Minining Project for  X company"
   ]
  },
  {
   "cell_type": "markdown",
   "metadata": {
    "id": "d7-ii3uyI8KY"
   },
   "source": [
    "The CRISP-DM Framework\n",
    "\n",
    "\n",
    "The CRISP-DM methodology provides a structured approach to planning a data mining project. It is a robust and well-proven methodology.\n",
    "* Business understanding (BU): Determine Business Objectives, Assess Situation, Determine Data Mining Goals, Produce Project Plan\n",
    "\n",
    "* Data understanding (DU): Collect Initial Data, Describe Data, Explore Data, Verify Data Quality\n",
    "\n",
    "* Data preparation (DP): Select Data, Clean Data, Construct Data, Integrate Data\n",
    "\n",
    "* Modeling (M): Select modeling technique, Generate Test Design, Build Model, Assess Model\n",
    "*  Evaluation (E): Evaluate Results, Review Process, Determine Next Steps\n",
    "*  Deployment (D): Plan Deployment, Plan Monitoring and Maintenance, Produce Final Report, Review Project\n",
    "\n",
    "\n",
    "References:\n",
    "\n",
    "[What is the CRISP-DM methodology?](https://https://www.sv-europe.com/crisp-dm-methodology/)\n",
    "\n",
    "[Introduction to CRISP DM Framework for Data Science and Machine Learning](https://https://www.linkedin.com/pulse/chapter-1-introduction-crisp-dm-framework-data-science-anshul-roy/)"
   ]
  },
  {
   "cell_type": "markdown",
   "metadata": {
    "id": "5lo7Ml7tMQOf"
   },
   "source": [
    "**Data Set**\n",
    "### The data is for company X which is trying to control attrition. \n",
    "### There are two sets of data: \"Existing employees\" and \"Employees who have left\". The following attributes are available for every employee.\n",
    "\n",
    "\n",
    "*   Satisfaction Level\n",
    "\n",
    "*   Last evaluation\n",
    "\n",
    "*   Number of projects\n",
    "\n",
    "*   Average monthly hours\n",
    "\n",
    "*   Time spent at the company\n",
    "*   Whether they have had a work accident\n",
    "\n",
    "\n",
    "*  Whether they have had a promotion in the last 5 years\n",
    "\n",
    "\n",
    "*   Departments (column sales)\n",
    "\n",
    "\n",
    "*   Salary\n",
    "\n",
    "\n",
    "*  Whether the employee has left\n",
    "\n",
    "\n",
    "\n",
    "\n",
    "\n",
    "\n",
    "\n",
    "\n",
    "\n",
    "\n",
    "\n",
    "\n",
    "\n",
    "\n",
    "\n",
    "\n"
   ]
  },
  {
   "cell_type": "markdown",
   "metadata": {
    "id": "sjSj2A2sSph_"
   },
   "source": [
    "**Your Role**\n",
    " \n",
    "\n",
    "*   As data science team member X company asked you to answer this two questions.\n",
    "*  What type of employees is leaving? \n",
    "\n",
    "*   Determine which employees are prone to leave next.\n",
    "\n",
    "\n",
    "\n",
    "\n"
   ]
  },
  {
   "cell_type": "markdown",
   "metadata": {
    "id": "ajdEVA7LiBUp"
   },
   "source": [
    "Business Understanding\n",
    "\n",
    "---\n",
    "\n",
    "This step mostly focuses on understanding the Business in all the different aspects. It follows the below different steps.\n",
    "\n",
    "\n",
    "\n",
    "\n",
    "* Identify the goal and frame the business problem.\n",
    "* Prepare Analytical Goal i.e. what type of performance metric and loss function to use\n",
    "* Gather information on resource, constraints, assumptions, risks etc\n",
    "* Gather information on resource, constraints, assumptions, risks etc\n",
    "*   Prepare Work Flow Chart"
   ]
  },
  {
   "cell_type": "markdown",
   "metadata": {
    "id": "J4MwiCYzj2_u"
   },
   "source": [
    "### Write the main objectives of this project in your words?\n",
    "minimum of 100 characters"
   ]
  },
  {
   "cell_type": "code",
   "execution_count": 3,
   "metadata": {
    "executionInfo": {
     "elapsed": 644,
     "status": "ok",
     "timestamp": 1624077621474,
     "user": {
      "displayName": "Mahlet Taye",
      "photoUrl": "",
      "userId": "08172124621047273189"
     },
     "user_tz": -180
    },
    "id": "STyLda45j1Mf"
   },
   "outputs": [],
   "source": [
    "main_objectives ='''\n",
    "The aim of the project is based on the given data set attributes to identify the attributes that have a major impact on attrition and predict which employees are going to leave based on the trends in the data set.\n",
    "'''"
   ]
  },
  {
   "cell_type": "code",
   "execution_count": 4,
   "metadata": {
    "executionInfo": {
     "elapsed": 8,
     "status": "ok",
     "timestamp": 1624077621946,
     "user": {
      "displayName": "Mahlet Taye",
      "photoUrl": "",
      "userId": "08172124621047273189"
     },
     "user_tz": -180
    },
    "id": "CuOlxLxKMOLI"
   },
   "outputs": [],
   "source": [
    "assert len(main_objectives) > 100 \n",
    "### BEGIN HIDDEN TESTS\n",
    "assert len(main_objectives) > 80 \n",
    "### END HIDDEN TESTS"
   ]
  },
  {
   "cell_type": "markdown",
   "metadata": {
    "id": "NyXeNxlCkbaw"
   },
   "source": [
    "### Outline the different data analysis steps you will follow to carry out the project"
   ]
  },
  {
   "cell_type": "code",
   "execution_count": 5,
   "metadata": {
    "id": "rC-tl8sUksQq"
   },
   "outputs": [],
   "source": [
    "dm_outline = '''\n",
    "1. Business Understanding \n",
    "    -While analyzing the data for the X company  we should have clear overview and understanding of the company what it does, \n",
    "    what kind of decision they are going to make, for which purpose the data is being analyzed.\n",
    "    -In our case, the company wants to analyze the data with the aim to control attrition and to understand the reasons \n",
    "    why employees leave the company.\n",
    "2.Acquire the Raw Data\n",
    "    -Data is collected from the different source.\n",
    "    -In our case we specifically have two sets of data \"Existing employees\" and \"Employees who have left\"\n",
    "3. Extract the Data\n",
    "    -This is the step where data is extracted to create a final data set.\n",
    "    that will allow us to leads the further analyzing process this is a clean data set. \n",
    "4. Transform the Data\n",
    "    Data transformation is the process of converting the data or dataset from on state or structure to another state structure, \n",
    "    it is the fundamental state of data integration where the data collected from different sources have been integrated \n",
    "    into particular structured data in such manner that it can be used at a destination for analysis process \n",
    "    this process is known as ETL(Extract Transform Load).\n",
    "5. Data Visualization\n",
    "    After building or creating the datasets, we need to visualize data to develop our Hypothesis or Insights to explore and \n",
    "    evaluate the data. \n",
    "6. Statical Analysis\n",
    "    -it is the important aspects of data analysis which summarize the data and it’s understanding in terms of model and graphs\n",
    "    apart from this it also explains how the data is related to the underlying real world. \n",
    "    the statical analysis is also used to identifying the pattern or trends for predictive analytics which helps to make \n",
    "    the business decision, it also helps to determine the statical significance of the data set.\n",
    "    -most of the attributes in our data set are numeric or boolean and finding or grouping this data set will help us in making \n",
    "    prediction\n",
    "7. Data Model Development\n",
    "    -the next step is building a model that will answer the business problem and \n",
    "    iterating over different algorithms to solve the business problem\n",
    "8. Recommendations/Report/Story\n",
    "    -This is the final step of the data analytics process where analysis decision is summarized and the result or \n",
    "    consequences of the analysis process is represented in terms of story, report, recommendations and PPT, \n",
    "    tableau and SAS application plays an important role to summarize the analysis process via a report or story building,\n",
    "'''"
   ]
  },
  {
   "cell_type": "code",
   "execution_count": null,
   "metadata": {
    "id": "-K1mWuDoksTk"
   },
   "outputs": [],
   "source": [
    "assert len(dm_outline) > 100 \n",
    "### BEGIN HIDDEN TESTS\n",
    "assert len(dm_outline) > 70 \n",
    "### END HIDDEN TESTS"
   ]
  },
  {
   "cell_type": "markdown",
   "metadata": {
    "id": "pmUDFG1wkzUy"
   },
   "source": [
    "### What metrics will you use to measure the performance of your data analysis model? \n",
    "Write the equations of the metrics here"
   ]
  },
  {
   "cell_type": "markdown",
   "metadata": {
    "id": "KCNulojKk_BP"
   },
   "source": [
    " Recall= $\\frac{TP}{(TP + FN)}$\n",
    "\n"
   ]
  },
  {
   "cell_type": "markdown",
   "metadata": {
    "id": "vLS2YHoRk_EK"
   },
   "source": [
    "Why do you choose these metrics? minimum of 100 characters"
   ]
  },
  {
   "cell_type": "code",
   "execution_count": null,
   "metadata": {
    "id": "LSynT14KlPSJ"
   },
   "outputs": [],
   "source": [
    "why_metrics = '''\n",
    "I choose recall becase in recall the idea of false positive is far better than false negatives, in other words,\n",
    "if the occurrence of false negatives is Unaccepted/intolerabel, that we would rather get some extra flase positives(false alarms)\n",
    "over saving some false negatives, like in our example, we would rather get some employee\n",
    "labeled as prone to leaving in fact they are staying over leaving employees who are going to \n",
    "leave as labeled as staying.\n",
    "'''"
   ]
  },
  {
   "cell_type": "code",
   "execution_count": null,
   "metadata": {
    "id": "yr-Mk0E8lPVJ"
   },
   "outputs": [],
   "source": [
    "assert len(why_metrics) > 100 \n",
    "### BEGIN HIDDEN TESTS\n",
    "assert len(why_metrics) > 80 \n",
    "### END HIDDEN TESTS"
   ]
  },
  {
   "cell_type": "markdown",
   "metadata": {
    "id": "aAo19Ip6lUtm"
   },
   "source": [
    "### How would you know if your data analysis work is a success or not?\n",
    "minimum of 100 characters"
   ]
  },
  {
   "cell_type": "code",
   "execution_count": 6,
   "metadata": {
    "id": "HESsiXW5llX-"
   },
   "outputs": [],
   "source": [
    "how_success = '''\n",
    "I would say my data anlysis works or successful if it can determine the major impact for attrition and predicts correctly which \n",
    "employee is going to leave and the reason for that.\n",
    "'''"
   ]
  },
  {
   "cell_type": "code",
   "execution_count": 7,
   "metadata": {
    "id": "FdUoiMIOlmXq"
   },
   "outputs": [],
   "source": [
    "assert len(how_success) > 100 \n",
    "### BEGIN HIDDEN TESTS\n",
    "assert len(how_success) > 80 \n",
    "### END HIDDEN TESTS"
   ]
  },
  {
   "cell_type": "markdown",
   "metadata": {
    "id": "DQE6dqo6l1TZ"
   },
   "source": [
    "## What kind of challenges do you expect in your analysis?\n",
    "List at least 3 challenges"
   ]
  },
  {
   "cell_type": "code",
   "execution_count": 8,
   "metadata": {
    "id": "WrAhBQhQl8Lh"
   },
   "outputs": [],
   "source": [
    "challenge_text = '''\n",
    "1.Poor quality data\n",
    "Nothing is more harmful to data analytics than inaccurate data. \n",
    "Without good input, output will be unreliable. A key cause of inaccurate data is manual errors made during data entry.\n",
    "2.Lack of support\n",
    "this study might show the defects of the top excutives and this might impact the process\n",
    "3.Shortage of skills\n",
    "'''"
   ]
  },
  {
   "cell_type": "code",
   "execution_count": 9,
   "metadata": {
    "id": "EedHa-Pll8X7"
   },
   "outputs": [],
   "source": [
    "assert len(challenge_text) > 100 \n",
    "### BEGIN HIDDEN TESTS\n",
    "assert len(how_success) > 80 \n",
    "### END HIDDEN TESTS"
   ]
  },
  {
   "cell_type": "markdown",
   "metadata": {},
   "source": [
    "<h2>Using the processed twitter data from yesterday's challenge</h2>.\n",
    "\n",
    "\n",
    "- Form a new data frame (named `cleanTweet`), containing columns $\\textbf{clean-text}$ and $\\textbf{polarity}$.\n",
    "\n",
    "- Write a function `text_category` that takes a value `p` and returns, depending on the value of p, a string `'positive'`, `'negative'` or `'neutral'`.\n",
    "\n",
    "- Apply this function (`text_category`) on the $\\textbf{polarity}$ column of `cleanTweet` in 1 above to form a new column called $\\textbf{score}$ in `cleanTweet`.\n",
    "\n",
    "- Visualize The $\\textbf{score}$ column using piechart and barchart\n",
    "\n",
    "<h5>Now we want to build a classification model on the clean tweet following the steps below:</h5>\n",
    "\n",
    "* Remove rows from `cleanTweet` where $\\textbf{polarity}$ $= 0$ (i.e where $\\textbf{score}$ = Neutral) and reset the frame index.\n",
    "* Construct a column $\\textbf{scoremap}$ Use the mapping {'positive':1, 'negative':0} on the $\\textbf{score}$ column\n",
    "* Create feature and target variables `(X,y)` from $\\textbf{clean-text}$ and $\\textbf{scoremap}$ columns respectively.\n",
    "* Use `train_test_split` function to construct `(X_train, y_train)` and `(X_test, y_test)` from `(X,y)`\n",
    "\n",
    "* Build an `SGDClassifier` model from the vectorize train text data. Use `CountVectorizer()` with a $\\textit{trigram}$ parameter.\n",
    "\n",
    "* Evaluate your model on the test data.\n"
   ]
  },
  {
   "cell_type": "code",
   "execution_count": 2,
   "metadata": {},
   "outputs": [],
   "source": [
    "#importing prerequisite libraries\n",
    "\n",
    "import pandas as pd\n",
    "import numpy as np"
   ]
  },
  {
   "cell_type": "code",
   "execution_count": 9,
   "metadata": {},
   "outputs": [
    {
     "data": {
      "text/html": [
       "<div>\n",
       "<style scoped>\n",
       "    .dataframe tbody tr th:only-of-type {\n",
       "        vertical-align: middle;\n",
       "    }\n",
       "\n",
       "    .dataframe tbody tr th {\n",
       "        vertical-align: top;\n",
       "    }\n",
       "\n",
       "    .dataframe thead th {\n",
       "        text-align: right;\n",
       "    }\n",
       "</style>\n",
       "<table border=\"1\" class=\"dataframe\">\n",
       "  <thead>\n",
       "    <tr style=\"text-align: right;\">\n",
       "      <th></th>\n",
       "      <th>Unnamed: 0</th>\n",
       "      <th>created_at</th>\n",
       "      <th>source</th>\n",
       "      <th>original_text</th>\n",
       "      <th>polarity</th>\n",
       "      <th>subjectivity</th>\n",
       "      <th>lang</th>\n",
       "      <th>favorite_count</th>\n",
       "      <th>retweet_count</th>\n",
       "      <th>original_author</th>\n",
       "      <th>followers_count</th>\n",
       "      <th>friends_count</th>\n",
       "      <th>possibly_sensitive</th>\n",
       "      <th>hashtags</th>\n",
       "      <th>user_mentions</th>\n",
       "      <th>place</th>\n",
       "    </tr>\n",
       "  </thead>\n",
       "  <tbody>\n",
       "    <tr>\n",
       "      <th>1115</th>\n",
       "      <td>1115</td>\n",
       "      <td>Fri Jun 18 19:21:03 +0000 2021</td>\n",
       "      <td>&lt;a href=\"https://mobile.twitter.com\" rel=\"nofo...</td>\n",
       "      <td>The timely delivery of #COVID19 vaccines is cr...</td>\n",
       "      <td>0.350000</td>\n",
       "      <td>0.744444</td>\n",
       "      <td>en</td>\n",
       "      <td>226</td>\n",
       "      <td>93</td>\n",
       "      <td>krauss64</td>\n",
       "      <td>70</td>\n",
       "      <td>141</td>\n",
       "      <td>NaN</td>\n",
       "      <td>[{'text': 'COVID19', 'indices': [42, 50]}]</td>\n",
       "      <td>[{'screen_name': 'SKyriakidesEU', 'name': 'Ste...</td>\n",
       "      <td>St Malo</td>\n",
       "    </tr>\n",
       "    <tr>\n",
       "      <th>1211</th>\n",
       "      <td>1211</td>\n",
       "      <td>Fri Jun 18 19:29:18 +0000 2021</td>\n",
       "      <td>&lt;a href=\"https://mobile.twitter.com\" rel=\"nofo...</td>\n",
       "      <td>It was great to speak with the #Jewish communi...</td>\n",
       "      <td>0.400000</td>\n",
       "      <td>0.375000</td>\n",
       "      <td>en</td>\n",
       "      <td>14</td>\n",
       "      <td>6</td>\n",
       "      <td>StarColombo</td>\n",
       "      <td>2676</td>\n",
       "      <td>4926</td>\n",
       "      <td>NaN</td>\n",
       "      <td>[{'text': 'Jewish', 'indices': [50, 57]}, {'te...</td>\n",
       "      <td>[{'screen_name': 'EyalDavid_mfa', 'name': 'Eya...</td>\n",
       "      <td>NaN</td>\n",
       "    </tr>\n",
       "    <tr>\n",
       "      <th>1598</th>\n",
       "      <td>1598</td>\n",
       "      <td>Fri Jun 18 20:04:20 +0000 2021</td>\n",
       "      <td>&lt;a href=\"http://twitter.com/download/android\" ...</td>\n",
       "      <td>Vaccines donated next year will be ‘too late f...</td>\n",
       "      <td>-0.150000</td>\n",
       "      <td>0.300000</td>\n",
       "      <td>en</td>\n",
       "      <td>7</td>\n",
       "      <td>5</td>\n",
       "      <td>kivumbi_jamil</td>\n",
       "      <td>60</td>\n",
       "      <td>662</td>\n",
       "      <td>NaN</td>\n",
       "      <td>[]</td>\n",
       "      <td>[{'screen_name': 'UN_News_Centre', 'name': 'UN...</td>\n",
       "      <td>NaN</td>\n",
       "    </tr>\n",
       "    <tr>\n",
       "      <th>3022</th>\n",
       "      <td>3022</td>\n",
       "      <td>Fri Jun 18 23:01:56 +0000 2021</td>\n",
       "      <td>&lt;a href=\"http://twitter.com/download/android\" ...</td>\n",
       "      <td>New York is fully open and Michigan will be fu...</td>\n",
       "      <td>0.034091</td>\n",
       "      <td>0.488636</td>\n",
       "      <td>en</td>\n",
       "      <td>242</td>\n",
       "      <td>86</td>\n",
       "      <td>CountryGardener</td>\n",
       "      <td>6131</td>\n",
       "      <td>1891</td>\n",
       "      <td>NaN</td>\n",
       "      <td>[]</td>\n",
       "      <td>[{'screen_name': 'Milhouse_Van_Ho', 'name': 'M...</td>\n",
       "      <td>Ontario, Canada</td>\n",
       "    </tr>\n",
       "    <tr>\n",
       "      <th>3115</th>\n",
       "      <td>3115</td>\n",
       "      <td>Fri Jun 18 23:15:24 +0000 2021</td>\n",
       "      <td>&lt;a href=\"http://twitter.com/download/iphone\" r...</td>\n",
       "      <td>New York is fully open and Michigan will be fu...</td>\n",
       "      <td>0.034091</td>\n",
       "      <td>0.488636</td>\n",
       "      <td>en</td>\n",
       "      <td>256</td>\n",
       "      <td>92</td>\n",
       "      <td>matt8111</td>\n",
       "      <td>200</td>\n",
       "      <td>607</td>\n",
       "      <td>NaN</td>\n",
       "      <td>[]</td>\n",
       "      <td>[{'screen_name': 'Milhouse_Van_Ho', 'name': 'M...</td>\n",
       "      <td>Georgian Bluffs, Ontario</td>\n",
       "    </tr>\n",
       "  </tbody>\n",
       "</table>\n",
       "</div>"
      ],
      "text/plain": [
       "      Unnamed: 0                      created_at  \\\n",
       "1115        1115  Fri Jun 18 19:21:03 +0000 2021   \n",
       "1211        1211  Fri Jun 18 19:29:18 +0000 2021   \n",
       "1598        1598  Fri Jun 18 20:04:20 +0000 2021   \n",
       "3022        3022  Fri Jun 18 23:01:56 +0000 2021   \n",
       "3115        3115  Fri Jun 18 23:15:24 +0000 2021   \n",
       "\n",
       "                                                 source  \\\n",
       "1115  <a href=\"https://mobile.twitter.com\" rel=\"nofo...   \n",
       "1211  <a href=\"https://mobile.twitter.com\" rel=\"nofo...   \n",
       "1598  <a href=\"http://twitter.com/download/android\" ...   \n",
       "3022  <a href=\"http://twitter.com/download/android\" ...   \n",
       "3115  <a href=\"http://twitter.com/download/iphone\" r...   \n",
       "\n",
       "                                          original_text  polarity  \\\n",
       "1115  The timely delivery of #COVID19 vaccines is cr...  0.350000   \n",
       "1211  It was great to speak with the #Jewish communi...  0.400000   \n",
       "1598  Vaccines donated next year will be ‘too late f... -0.150000   \n",
       "3022  New York is fully open and Michigan will be fu...  0.034091   \n",
       "3115  New York is fully open and Michigan will be fu...  0.034091   \n",
       "\n",
       "      subjectivity lang  favorite_count  retweet_count  original_author  \\\n",
       "1115      0.744444   en             226             93         krauss64   \n",
       "1211      0.375000   en              14              6      StarColombo   \n",
       "1598      0.300000   en               7              5    kivumbi_jamil   \n",
       "3022      0.488636   en             242             86  CountryGardener   \n",
       "3115      0.488636   en             256             92         matt8111   \n",
       "\n",
       "      followers_count  friends_count possibly_sensitive  \\\n",
       "1115               70            141                NaN   \n",
       "1211             2676           4926                NaN   \n",
       "1598               60            662                NaN   \n",
       "3022             6131           1891                NaN   \n",
       "3115              200            607                NaN   \n",
       "\n",
       "                                               hashtags  \\\n",
       "1115         [{'text': 'COVID19', 'indices': [42, 50]}]   \n",
       "1211  [{'text': 'Jewish', 'indices': [50, 57]}, {'te...   \n",
       "1598                                                 []   \n",
       "3022                                                 []   \n",
       "3115                                                 []   \n",
       "\n",
       "                                          user_mentions  \\\n",
       "1115  [{'screen_name': 'SKyriakidesEU', 'name': 'Ste...   \n",
       "1211  [{'screen_name': 'EyalDavid_mfa', 'name': 'Eya...   \n",
       "1598  [{'screen_name': 'UN_News_Centre', 'name': 'UN...   \n",
       "3022  [{'screen_name': 'Milhouse_Van_Ho', 'name': 'M...   \n",
       "3115  [{'screen_name': 'Milhouse_Van_Ho', 'name': 'M...   \n",
       "\n",
       "                         place  \n",
       "1115                   St Malo  \n",
       "1211                       NaN  \n",
       "1598                       NaN  \n",
       "3022           Ontario, Canada  \n",
       "3115  Georgian Bluffs, Ontario  "
      ]
     },
     "execution_count": 9,
     "metadata": {},
     "output_type": "execute_result"
    }
   ],
   "source": [
    "clean_tweet_file=('clean_tweet.csv')\n",
    "tweet_df=pd.read_csv(clean_tweet_file)\n",
    "tweet_df.sample(5)"
   ]
  },
  {
   "cell_type": "code",
   "execution_count": null,
   "metadata": {},
   "outputs": [],
   "source": []
  }
 ],
 "metadata": {
  "colab": {
   "authorship_tag": "ABX9TyO6PgFRMlUXDp0jxgb9maVi",
   "collapsed_sections": [],
   "mount_file_id": "15ve2DLGFsqNZcDbxKD5DqFSSGLNhKkR7",
   "name": "Challenge_ Day2.ipynb",
   "provenance": []
  },
  "kernelspec": {
   "display_name": "Python 3",
   "language": "python",
   "name": "python3"
  },
  "language_info": {
   "codemirror_mode": {
    "name": "ipython",
    "version": 3
   },
   "file_extension": ".py",
   "mimetype": "text/x-python",
   "name": "python",
   "nbconvert_exporter": "python",
   "pygments_lexer": "ipython3",
   "version": "3.8.3"
  }
 },
 "nbformat": 4,
 "nbformat_minor": 1
}
