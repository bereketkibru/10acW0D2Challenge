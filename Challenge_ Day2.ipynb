{
 "cells": [
  {
   "cell_type": "markdown",
   "metadata": {
    "id": "zDwep1K8Erxl"
   },
   "source": [
    "**Project:** Data Minining Project for  X company"
   ]
  },
  {
   "cell_type": "markdown",
   "metadata": {
    "id": "d7-ii3uyI8KY"
   },
   "source": [
    "The CRISP-DM Framework\n",
    "\n",
    "\n",
    "The CRISP-DM methodology provides a structured approach to planning a data mining project. It is a robust and well-proven methodology.\n",
    "* Business understanding (BU): Determine Business Objectives, Assess Situation, Determine Data Mining Goals, Produce Project Plan\n",
    "\n",
    "* Data understanding (DU): Collect Initial Data, Describe Data, Explore Data, Verify Data Quality\n",
    "\n",
    "* Data preparation (DP): Select Data, Clean Data, Construct Data, Integrate Data\n",
    "\n",
    "* Modeling (M): Select modeling technique, Generate Test Design, Build Model, Assess Model\n",
    "*  Evaluation (E): Evaluate Results, Review Process, Determine Next Steps\n",
    "*  Deployment (D): Plan Deployment, Plan Monitoring and Maintenance, Produce Final Report, Review Project\n",
    "\n",
    "\n",
    "References:\n",
    "\n",
    "[What is the CRISP-DM methodology?](https://https://www.sv-europe.com/crisp-dm-methodology/)\n",
    "\n",
    "[Introduction to CRISP DM Framework for Data Science and Machine Learning](https://https://www.linkedin.com/pulse/chapter-1-introduction-crisp-dm-framework-data-science-anshul-roy/)"
   ]
  },
  {
   "cell_type": "markdown",
   "metadata": {
    "id": "5lo7Ml7tMQOf"
   },
   "source": [
    "**Data Set**\n",
    "### The data is for company X which is trying to control attrition. \n",
    "### There are two sets of data: \"Existing employees\" and \"Employees who have left\". The following attributes are available for every employee.\n",
    "\n",
    "\n",
    "*   Satisfaction Level\n",
    "\n",
    "*   Last evaluation\n",
    "\n",
    "*   Number of projects\n",
    "\n",
    "*   Average monthly hours\n",
    "\n",
    "*   Time spent at the company\n",
    "*   Whether they have had a work accident\n",
    "\n",
    "\n",
    "*  Whether they have had a promotion in the last 5 years\n",
    "\n",
    "\n",
    "*   Departments (column sales)\n",
    "\n",
    "\n",
    "*   Salary\n",
    "\n",
    "\n",
    "*  Whether the employee has left\n",
    "\n",
    "\n",
    "\n",
    "\n",
    "\n",
    "\n",
    "\n",
    "\n",
    "\n",
    "\n",
    "\n",
    "\n",
    "\n",
    "\n",
    "\n",
    "\n"
   ]
  },
  {
   "cell_type": "markdown",
   "metadata": {
    "id": "sjSj2A2sSph_"
   },
   "source": [
    "**Your Role**\n",
    " \n",
    "\n",
    "*   As data science team member X company asked you to answer this two questions.\n",
    "*  What type of employees is leaving? \n",
    "\n",
    "*   Determine which employees are prone to leave next.\n",
    "\n",
    "\n",
    "\n",
    "\n"
   ]
  },
  {
   "cell_type": "markdown",
   "metadata": {
    "id": "ajdEVA7LiBUp"
   },
   "source": [
    "Business Understanding\n",
    "\n",
    "---\n",
    "\n",
    "This step mostly focuses on understanding the Business in all the different aspects. It follows the below different steps.\n",
    "\n",
    "\n",
    "\n",
    "\n",
    "* Identify the goal and frame the business problem.\n",
    "* Prepare Analytical Goal i.e. what type of performance metric and loss function to use\n",
    "* Gather information on resource, constraints, assumptions, risks etc\n",
    "* Gather information on resource, constraints, assumptions, risks etc\n",
    "*   Prepare Work Flow Chart"
   ]
  },
  {
   "cell_type": "markdown",
   "metadata": {
    "id": "J4MwiCYzj2_u"
   },
   "source": [
    "### Write the main objectives of this project in your words?\n",
    "minimum of 100 characters"
   ]
  },
  {
   "cell_type": "code",
   "execution_count": 3,
   "metadata": {
    "executionInfo": {
     "elapsed": 644,
     "status": "ok",
     "timestamp": 1624077621474,
     "user": {
      "displayName": "Mahlet Taye",
      "photoUrl": "",
      "userId": "08172124621047273189"
     },
     "user_tz": -180
    },
    "id": "STyLda45j1Mf"
   },
   "outputs": [],
   "source": [
    "main_objectives ='''\n",
    "The aim of the project is based on the given data set attributes to identify the attributes that have a major impact on attrition and predict which employees are going to leave based on the trends in the data set.\n",
    "'''"
   ]
  },
  {
   "cell_type": "code",
   "execution_count": 4,
   "metadata": {
    "executionInfo": {
     "elapsed": 8,
     "status": "ok",
     "timestamp": 1624077621946,
     "user": {
      "displayName": "Mahlet Taye",
      "photoUrl": "",
      "userId": "08172124621047273189"
     },
     "user_tz": -180
    },
    "id": "CuOlxLxKMOLI"
   },
   "outputs": [],
   "source": [
    "assert len(main_objectives) > 100 \n",
    "### BEGIN HIDDEN TESTS\n",
    "assert len(main_objectives) > 80 \n",
    "### END HIDDEN TESTS"
   ]
  },
  {
   "cell_type": "markdown",
   "metadata": {
    "id": "NyXeNxlCkbaw"
   },
   "source": [
    "### Outline the different data analysis steps you will follow to carry out the project"
   ]
  },
  {
   "cell_type": "code",
   "execution_count": 5,
   "metadata": {
    "id": "rC-tl8sUksQq"
   },
   "outputs": [],
   "source": [
    "dm_outline = '''\n",
    "1. Business Understanding \n",
    "    -While analyzing the data for the X company  we should have clear overview and understanding of the company what it does, \n",
    "    what kind of decision they are going to make, for which purpose the data is being analyzed.\n",
    "    -In our case, the company wants to analyze the data with the aim to control attrition and to understand the reasons \n",
    "    why employees leave the company.\n",
    "2.Acquire the Raw Data\n",
    "    -Data is collected from the different source.\n",
    "    -In our case we specifically have two sets of data \"Existing employees\" and \"Employees who have left\"\n",
    "3. Extract the Data\n",
    "    -This is the step where data is extracted to create a final data set.\n",
    "    that will allow us to leads the further analyzing process this is a clean data set. \n",
    "4. Transform the Data\n",
    "    Data transformation is the process of converting the data or dataset from on state or structure to another state structure, \n",
    "    it is the fundamental state of data integration where the data collected from different sources have been integrated \n",
    "    into particular structured data in such manner that it can be used at a destination for analysis process \n",
    "    this process is known as ETL(Extract Transform Load).\n",
    "5. Data Visualization\n",
    "    After building or creating the datasets, we need to visualize data to develop our Hypothesis or Insights to explore and \n",
    "    evaluate the data. \n",
    "6. Statical Analysis\n",
    "    -it is the important aspects of data analysis which summarize the data and it’s understanding in terms of model and graphs\n",
    "    apart from this it also explains how the data is related to the underlying real world. \n",
    "    the statical analysis is also used to identifying the pattern or trends for predictive analytics which helps to make \n",
    "    the business decision, it also helps to determine the statical significance of the data set.\n",
    "    -most of the attributes in our data set are numeric or boolean and finding or grouping this data set will help us in making \n",
    "    prediction\n",
    "7. Data Model Development\n",
    "    -the next step is building a model that will answer the business problem and \n",
    "    iterating over different algorithms to solve the business problem\n",
    "8. Recommendations/Report/Story\n",
    "    -This is the final step of the data analytics process where analysis decision is summarized and the result or \n",
    "    consequences of the analysis process is represented in terms of story, report, recommendations and PPT, \n",
    "    tableau and SAS application plays an important role to summarize the analysis process via a report or story building,\n",
    "'''"
   ]
  },
  {
   "cell_type": "code",
   "execution_count": null,
   "metadata": {
    "id": "-K1mWuDoksTk"
   },
   "outputs": [],
   "source": [
    "assert len(dm_outline) > 100 \n",
    "### BEGIN HIDDEN TESTS\n",
    "assert len(dm_outline) > 70 \n",
    "### END HIDDEN TESTS"
   ]
  },
  {
   "cell_type": "markdown",
   "metadata": {
    "id": "pmUDFG1wkzUy"
   },
   "source": [
    "### What metrics will you use to measure the performance of your data analysis model? \n",
    "Write the equations of the metrics here"
   ]
  },
  {
   "cell_type": "markdown",
   "metadata": {
    "id": "KCNulojKk_BP"
   },
   "source": [
    " Recall= $\\frac{TP}{(TP + FN)}$\n",
    "\n"
   ]
  },
  {
   "cell_type": "markdown",
   "metadata": {
    "id": "vLS2YHoRk_EK"
   },
   "source": [
    "Why do you choose these metrics? minimum of 100 characters"
   ]
  },
  {
   "cell_type": "code",
   "execution_count": null,
   "metadata": {
    "id": "LSynT14KlPSJ"
   },
   "outputs": [],
   "source": [
    "why_metrics = '''\n",
    "I choose recall becase in recall the idea of false positive is far better than false negatives, in other words,\n",
    "if the occurrence of false negatives is Unaccepted/intolerabel, that we would rather get some extra flase positives(false alarms)\n",
    "over saving some false negatives, like in our example, we would rather get some employee\n",
    "labeled as prone to leaving in fact they are staying over leaving employees who are going to \n",
    "leave as labeled as staying.\n",
    "'''"
   ]
  },
  {
   "cell_type": "code",
   "execution_count": null,
   "metadata": {
    "id": "yr-Mk0E8lPVJ"
   },
   "outputs": [],
   "source": [
    "assert len(why_metrics) > 100 \n",
    "### BEGIN HIDDEN TESTS\n",
    "assert len(why_metrics) > 80 \n",
    "### END HIDDEN TESTS"
   ]
  },
  {
   "cell_type": "markdown",
   "metadata": {
    "id": "aAo19Ip6lUtm"
   },
   "source": [
    "### How would you know if your data analysis work is a success or not?\n",
    "minimum of 100 characters"
   ]
  },
  {
   "cell_type": "code",
   "execution_count": 6,
   "metadata": {
    "id": "HESsiXW5llX-"
   },
   "outputs": [],
   "source": [
    "how_success = '''\n",
    "I would say my data anlysis works or successful if it can determine the major impact for attrition and predicts correctly which \n",
    "employee is going to leave and the reason for that.\n",
    "'''"
   ]
  },
  {
   "cell_type": "code",
   "execution_count": 7,
   "metadata": {
    "id": "FdUoiMIOlmXq"
   },
   "outputs": [],
   "source": [
    "assert len(how_success) > 100 \n",
    "### BEGIN HIDDEN TESTS\n",
    "assert len(how_success) > 80 \n",
    "### END HIDDEN TESTS"
   ]
  },
  {
   "cell_type": "markdown",
   "metadata": {
    "id": "DQE6dqo6l1TZ"
   },
   "source": [
    "## What kind of challenges do you expect in your analysis?\n",
    "List at least 3 challenges"
   ]
  },
  {
   "cell_type": "code",
   "execution_count": 8,
   "metadata": {
    "id": "WrAhBQhQl8Lh"
   },
   "outputs": [],
   "source": [
    "challenge_text = '''\n",
    "1.Poor quality data\n",
    "Nothing is more harmful to data analytics than inaccurate data. \n",
    "Without good input, output will be unreliable. A key cause of inaccurate data is manual errors made during data entry.\n",
    "2.Lack of support\n",
    "this study might show the defects of the top excutives and this might impact the process\n",
    "3.Shortage of skills\n",
    "'''"
   ]
  },
  {
   "cell_type": "code",
   "execution_count": 9,
   "metadata": {
    "id": "EedHa-Pll8X7"
   },
   "outputs": [],
   "source": [
    "assert len(challenge_text) > 100 \n",
    "### BEGIN HIDDEN TESTS\n",
    "assert len(how_success) > 80 \n",
    "### END HIDDEN TESTS"
   ]
  },
  {
   "cell_type": "markdown",
   "metadata": {},
   "source": [
    "<h2>Using the processed twitter data from yesterday's challenge</h2>.\n",
    "\n",
    "\n",
    "- Form a new data frame (named `cleanTweet`), containing columns $\\textbf{clean-text}$ and $\\textbf{polarity}$.\n",
    "\n",
    "- Write a function `text_category` that takes a value `p` and returns, depending on the value of p, a string `'positive'`, `'negative'` or `'neutral'`.\n",
    "\n",
    "- Apply this function (`text_category`) on the $\\textbf{polarity}$ column of `cleanTweet` in 1 above to form a new column called $\\textbf{score}$ in `cleanTweet`.\n",
    "\n",
    "- Visualize The $\\textbf{score}$ column using piechart and barchart\n",
    "\n",
    "<h5>Now we want to build a classification model on the clean tweet following the steps below:</h5>\n",
    "\n",
    "* Remove rows from `cleanTweet` where $\\textbf{polarity}$ $= 0$ (i.e where $\\textbf{score}$ = Neutral) and reset the frame index.\n",
    "* Construct a column $\\textbf{scoremap}$ Use the mapping {'positive':1, 'negative':0} on the $\\textbf{score}$ column\n",
    "* Create feature and target variables `(X,y)` from $\\textbf{clean-text}$ and $\\textbf{scoremap}$ columns respectively.\n",
    "* Use `train_test_split` function to construct `(X_train, y_train)` and `(X_test, y_test)` from `(X,y)`\n",
    "\n",
    "* Build an `SGDClassifier` model from the vectorize train text data. Use `CountVectorizer()` with a $\\textit{trigram}$ parameter.\n",
    "\n",
    "* Evaluate your model on the test data.\n"
   ]
  },
  {
   "cell_type": "code",
   "execution_count": 2,
   "metadata": {},
   "outputs": [],
   "source": [
    "#importing prerequisite libraries\n",
    "\n",
    "import pandas as pd\n",
    "import numpy as np"
   ]
  },
  {
   "cell_type": "code",
   "execution_count": 8,
   "metadata": {},
   "outputs": [
    {
     "data": {
      "text/html": [
       "<div>\n",
       "<style scoped>\n",
       "    .dataframe tbody tr th:only-of-type {\n",
       "        vertical-align: middle;\n",
       "    }\n",
       "\n",
       "    .dataframe tbody tr th {\n",
       "        vertical-align: top;\n",
       "    }\n",
       "\n",
       "    .dataframe thead th {\n",
       "        text-align: right;\n",
       "    }\n",
       "</style>\n",
       "<table border=\"1\" class=\"dataframe\">\n",
       "  <thead>\n",
       "    <tr style=\"text-align: right;\">\n",
       "      <th></th>\n",
       "      <th>Unnamed: 0</th>\n",
       "      <th>created_at</th>\n",
       "      <th>source</th>\n",
       "      <th>original_text</th>\n",
       "      <th>clean_text</th>\n",
       "      <th>sentiment</th>\n",
       "      <th>polarity</th>\n",
       "      <th>subjectivity</th>\n",
       "      <th>lang</th>\n",
       "      <th>favorite_count</th>\n",
       "      <th>...</th>\n",
       "      <th>original_author</th>\n",
       "      <th>screen_count</th>\n",
       "      <th>followers_count</th>\n",
       "      <th>friends_count</th>\n",
       "      <th>possibly_sensitive</th>\n",
       "      <th>hashtags</th>\n",
       "      <th>user_mentions</th>\n",
       "      <th>place</th>\n",
       "      <th>place_coord_boundaries</th>\n",
       "      <th>timestamp</th>\n",
       "    </tr>\n",
       "  </thead>\n",
       "  <tbody>\n",
       "    <tr>\n",
       "      <th>2331</th>\n",
       "      <td>2331.0</td>\n",
       "      <td>Thu Jun 17 10:01:05 +0000 2021</td>\n",
       "      <td>&lt;a href=\"http://twitter.com/download/android\" ...</td>\n",
       "      <td>WIN R30 Airtime !!! \\n\\nWinners will be announ...</td>\n",
       "      <td>WIN R30 Airtime Winners announced pm today Rul...</td>\n",
       "      <td>Sentiment(polarity=0.8, subjectivity=0.4)</td>\n",
       "      <td>0.8</td>\n",
       "      <td>0.4</td>\n",
       "      <td>en</td>\n",
       "      <td>0</td>\n",
       "      <td>...</td>\n",
       "      <td>FererroVmp</td>\n",
       "      <td>29337</td>\n",
       "      <td>7224</td>\n",
       "      <td>5920</td>\n",
       "      <td>False</td>\n",
       "      <td>NaN</td>\n",
       "      <td>SFaiith</td>\n",
       "      <td>NaN</td>\n",
       "      <td>South Africa</td>\n",
       "      <td>2021-06-17 10:01:05+00:00</td>\n",
       "    </tr>\n",
       "    <tr>\n",
       "      <th>1804</th>\n",
       "      <td>1804.0</td>\n",
       "      <td>Thu Jun 17 09:38:48 +0000 2021</td>\n",
       "      <td>&lt;a href=\"http://twitter.com/download/android\" ...</td>\n",
       "      <td>idhi perfect, oka 10 mandi gumpu ga form ayi f...</td>\n",
       "      <td>idhi perfect oka mandi gumpu ga form ayi flowe...</td>\n",
       "      <td>Sentiment(polarity=1.0, subjectivity=1.0)</td>\n",
       "      <td>1.0</td>\n",
       "      <td>1.0</td>\n",
       "      <td>et</td>\n",
       "      <td>0</td>\n",
       "      <td>...</td>\n",
       "      <td>BeingSaiKrishna</td>\n",
       "      <td>49729</td>\n",
       "      <td>128</td>\n",
       "      <td>78</td>\n",
       "      <td>NaN</td>\n",
       "      <td>NaN</td>\n",
       "      <td>urstrulyssmb__</td>\n",
       "      <td>NaN</td>\n",
       "      <td>India</td>\n",
       "      <td>2021-06-17 09:38:48+00:00</td>\n",
       "    </tr>\n",
       "    <tr>\n",
       "      <th>4830</th>\n",
       "      <td>2019.0</td>\n",
       "      <td>Thu Jun 17 09:47:51 +0000 2021</td>\n",
       "      <td>&lt;a href=\"http://twitter.com/download/android\" ...</td>\n",
       "      <td>Check out #Paylend, the platform that digitize...</td>\n",
       "      <td>Check platform digitizes informal shops `` bla...</td>\n",
       "      <td>Sentiment(polarity=0.06818181818181818, subjec...</td>\n",
       "      <td>0.06818181818181818</td>\n",
       "      <td>0.25</td>\n",
       "      <td>en</td>\n",
       "      <td>0</td>\n",
       "      <td>...</td>\n",
       "      <td>davidgoodlucky</td>\n",
       "      <td>9884</td>\n",
       "      <td>398</td>\n",
       "      <td>650</td>\n",
       "      <td>NaN</td>\n",
       "      <td>Paylend</td>\n",
       "      <td>KiwiaIrene</td>\n",
       "      <td>NaN</td>\n",
       "      <td>Dar es Salaam, Tanzania</td>\n",
       "      <td>2021-06-17 09:47:51+00:00</td>\n",
       "    </tr>\n",
       "    <tr>\n",
       "      <th>5408</th>\n",
       "      <td>2597.0</td>\n",
       "      <td>Thu Jun 17 10:12:23 +0000 2021</td>\n",
       "      <td>&lt;a href=\"http://twitter.com/download/android\" ...</td>\n",
       "      <td>In the world,facts matter.And #Klever produces...</td>\n",
       "      <td>In world facts matter.And produces results But...</td>\n",
       "      <td>Sentiment(polarity=0.5, subjectivity=0.9296296...</td>\n",
       "      <td>0.5</td>\n",
       "      <td>0.9296296296296296</td>\n",
       "      <td>en</td>\n",
       "      <td>0</td>\n",
       "      <td>...</td>\n",
       "      <td>KleverHammer</td>\n",
       "      <td>292</td>\n",
       "      <td>55</td>\n",
       "      <td>190</td>\n",
       "      <td>NaN</td>\n",
       "      <td>Klever</td>\n",
       "      <td>KainMark</td>\n",
       "      <td>NaN</td>\n",
       "      <td>#KLV #KleverExchange #Klever</td>\n",
       "      <td>2021-06-17 10:12:23+00:00</td>\n",
       "    </tr>\n",
       "    <tr>\n",
       "      <th>3606</th>\n",
       "      <td>795.0</td>\n",
       "      <td>Thu Jun 17 08:55:36 +0000 2021</td>\n",
       "      <td>&lt;a href=\"https://mobile.twitter.com\" rel=\"nofo...</td>\n",
       "      <td>Os jabotis deram cria : novos aparecem  no rel...</td>\n",
       "      <td>Os jabotis deram cria novos aparecem relatrio ...</td>\n",
       "      <td>Sentiment(polarity=0.0, subjectivity=0.0)</td>\n",
       "      <td>0.0</td>\n",
       "      <td>0.0</td>\n",
       "      <td>pt</td>\n",
       "      <td>0</td>\n",
       "      <td>...</td>\n",
       "      <td>LessaWender</td>\n",
       "      <td>343</td>\n",
       "      <td>10</td>\n",
       "      <td>5</td>\n",
       "      <td>NaN</td>\n",
       "      <td>NaN</td>\n",
       "      <td>alvarodias_</td>\n",
       "      <td>NaN</td>\n",
       "      <td>NaN</td>\n",
       "      <td>2021-06-17 08:55:36+00:00</td>\n",
       "    </tr>\n",
       "  </tbody>\n",
       "</table>\n",
       "<p>5 rows × 21 columns</p>\n",
       "</div>"
      ],
      "text/plain": [
       "      Unnamed: 0                      created_at  \\\n",
       "2331      2331.0  Thu Jun 17 10:01:05 +0000 2021   \n",
       "1804      1804.0  Thu Jun 17 09:38:48 +0000 2021   \n",
       "4830      2019.0  Thu Jun 17 09:47:51 +0000 2021   \n",
       "5408      2597.0  Thu Jun 17 10:12:23 +0000 2021   \n",
       "3606       795.0  Thu Jun 17 08:55:36 +0000 2021   \n",
       "\n",
       "                                                 source  \\\n",
       "2331  <a href=\"http://twitter.com/download/android\" ...   \n",
       "1804  <a href=\"http://twitter.com/download/android\" ...   \n",
       "4830  <a href=\"http://twitter.com/download/android\" ...   \n",
       "5408  <a href=\"http://twitter.com/download/android\" ...   \n",
       "3606  <a href=\"https://mobile.twitter.com\" rel=\"nofo...   \n",
       "\n",
       "                                          original_text  \\\n",
       "2331  WIN R30 Airtime !!! \\n\\nWinners will be announ...   \n",
       "1804  idhi perfect, oka 10 mandi gumpu ga form ayi f...   \n",
       "4830  Check out #Paylend, the platform that digitize...   \n",
       "5408  In the world,facts matter.And #Klever produces...   \n",
       "3606  Os jabotis deram cria : novos aparecem  no rel...   \n",
       "\n",
       "                                             clean_text  \\\n",
       "2331  WIN R30 Airtime Winners announced pm today Rul...   \n",
       "1804  idhi perfect oka mandi gumpu ga form ayi flowe...   \n",
       "4830  Check platform digitizes informal shops `` bla...   \n",
       "5408  In world facts matter.And produces results But...   \n",
       "3606  Os jabotis deram cria novos aparecem relatrio ...   \n",
       "\n",
       "                                              sentiment             polarity  \\\n",
       "2331          Sentiment(polarity=0.8, subjectivity=0.4)                  0.8   \n",
       "1804          Sentiment(polarity=1.0, subjectivity=1.0)                  1.0   \n",
       "4830  Sentiment(polarity=0.06818181818181818, subjec...  0.06818181818181818   \n",
       "5408  Sentiment(polarity=0.5, subjectivity=0.9296296...                  0.5   \n",
       "3606          Sentiment(polarity=0.0, subjectivity=0.0)                  0.0   \n",
       "\n",
       "            subjectivity lang favorite_count  ...  original_author  \\\n",
       "2331                 0.4   en              0  ...       FererroVmp   \n",
       "1804                 1.0   et              0  ...  BeingSaiKrishna   \n",
       "4830                0.25   en              0  ...   davidgoodlucky   \n",
       "5408  0.9296296296296296   en              0  ...     KleverHammer   \n",
       "3606                 0.0   pt              0  ...      LessaWender   \n",
       "\n",
       "     screen_count followers_count friends_count possibly_sensitive hashtags  \\\n",
       "2331        29337            7224          5920              False      NaN   \n",
       "1804        49729             128            78                NaN      NaN   \n",
       "4830         9884             398           650                NaN  Paylend   \n",
       "5408          292              55           190                NaN   Klever   \n",
       "3606          343              10             5                NaN      NaN   \n",
       "\n",
       "       user_mentions place        place_coord_boundaries  \\\n",
       "2331         SFaiith   NaN                  South Africa   \n",
       "1804  urstrulyssmb__   NaN                         India   \n",
       "4830      KiwiaIrene   NaN       Dar es Salaam, Tanzania   \n",
       "5408        KainMark   NaN  #KLV #KleverExchange #Klever   \n",
       "3606     alvarodias_   NaN                           NaN   \n",
       "\n",
       "                      timestamp  \n",
       "2331  2021-06-17 10:01:05+00:00  \n",
       "1804  2021-06-17 09:38:48+00:00  \n",
       "4830  2021-06-17 09:47:51+00:00  \n",
       "5408  2021-06-17 10:12:23+00:00  \n",
       "3606  2021-06-17 08:55:36+00:00  \n",
       "\n",
       "[5 rows x 21 columns]"
      ]
     },
     "execution_count": 8,
     "metadata": {},
     "output_type": "execute_result"
    }
   ],
   "source": [
    "clean_tweet_file=('cleaned_fintech_data.csv')\n",
    "tweet_df=pd.read_csv(clean_tweet_file)\n",
    "tweet_df.sample(5)"
   ]
  },
  {
   "cell_type": "code",
   "execution_count": null,
   "metadata": {},
   "outputs": [],
   "source": []
  }
 ],
 "metadata": {
  "colab": {
   "authorship_tag": "ABX9TyO6PgFRMlUXDp0jxgb9maVi",
   "collapsed_sections": [],
   "mount_file_id": "15ve2DLGFsqNZcDbxKD5DqFSSGLNhKkR7",
   "name": "Challenge_ Day2.ipynb",
   "provenance": []
  },
  "kernelspec": {
   "display_name": "Python 3",
   "language": "python",
   "name": "python3"
  },
  "language_info": {
   "codemirror_mode": {
    "name": "ipython",
    "version": 3
   },
   "file_extension": ".py",
   "mimetype": "text/x-python",
   "name": "python",
   "nbconvert_exporter": "python",
   "pygments_lexer": "ipython3",
   "version": "3.8.3"
  }
 },
 "nbformat": 4,
 "nbformat_minor": 1
}
