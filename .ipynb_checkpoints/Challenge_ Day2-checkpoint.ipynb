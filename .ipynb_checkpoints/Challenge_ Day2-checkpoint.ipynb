{
 "cells": [
  {
   "cell_type": "markdown",
   "metadata": {
    "id": "zDwep1K8Erxl"
   },
   "source": [
    "**Project:** Data Minining Project for  X company"
   ]
  },
  {
   "cell_type": "markdown",
   "metadata": {
    "id": "d7-ii3uyI8KY"
   },
   "source": [
    "The CRISP-DM Framework\n",
    "\n",
    "\n",
    "The CRISP-DM methodology provides a structured approach to planning a data mining project. It is a robust and well-proven methodology.\n",
    "* Business understanding (BU): Determine Business Objectives, Assess Situation, Determine Data Mining Goals, Produce Project Plan\n",
    "\n",
    "* Data understanding (DU): Collect Initial Data, Describe Data, Explore Data, Verify Data Quality\n",
    "\n",
    "* Data preparation (DP): Select Data, Clean Data, Construct Data, Integrate Data\n",
    "\n",
    "* Modeling (M): Select modeling technique, Generate Test Design, Build Model, Assess Model\n",
    "*  Evaluation (E): Evaluate Results, Review Process, Determine Next Steps\n",
    "*  Deployment (D): Plan Deployment, Plan Monitoring and Maintenance, Produce Final Report, Review Project\n",
    "\n",
    "\n",
    "References:\n",
    "\n",
    "[What is the CRISP-DM methodology?](https://https://www.sv-europe.com/crisp-dm-methodology/)\n",
    "\n",
    "[Introduction to CRISP DM Framework for Data Science and Machine Learning](https://https://www.linkedin.com/pulse/chapter-1-introduction-crisp-dm-framework-data-science-anshul-roy/)"
   ]
  },
  {
   "cell_type": "markdown",
   "metadata": {
    "id": "5lo7Ml7tMQOf"
   },
   "source": [
    "**Data Set**\n",
    "### The data is for company X which is trying to control attrition. \n",
    "### There are two sets of data: \"Existing employees\" and \"Employees who have left\". The following attributes are available for every employee.\n",
    "\n",
    "\n",
    "*   Satisfaction Level\n",
    "\n",
    "*   Last evaluation\n",
    "\n",
    "*   Number of projects\n",
    "\n",
    "*   Average monthly hours\n",
    "\n",
    "*   Time spent at the company\n",
    "*   Whether they have had a work accident\n",
    "\n",
    "\n",
    "*  Whether they have had a promotion in the last 5 years\n",
    "\n",
    "\n",
    "*   Departments (column sales)\n",
    "\n",
    "\n",
    "*   Salary\n",
    "\n",
    "\n",
    "*  Whether the employee has left\n",
    "\n",
    "\n",
    "\n",
    "\n",
    "\n",
    "\n",
    "\n",
    "\n",
    "\n",
    "\n",
    "\n",
    "\n",
    "\n",
    "\n",
    "\n",
    "\n"
   ]
  },
  {
   "cell_type": "markdown",
   "metadata": {
    "id": "sjSj2A2sSph_"
   },
   "source": [
    "**Your Role**\n",
    " \n",
    "\n",
    "*   As data science team member X company asked you to answer this two questions.\n",
    "*  What type of employees is leaving? \n",
    "\n",
    "*   Determine which employees are prone to leave next.\n",
    "\n",
    "\n",
    "\n",
    "\n"
   ]
  },
  {
   "cell_type": "markdown",
   "metadata": {
    "id": "ajdEVA7LiBUp"
   },
   "source": [
    "Business Understanding\n",
    "\n",
    "---\n",
    "\n",
    "This step mostly focuses on understanding the Business in all the different aspects. It follows the below different steps.\n",
    "\n",
    "\n",
    "\n",
    "\n",
    "* Identify the goal and frame the business problem.\n",
    "* Prepare Analytical Goal i.e. what type of performance metric and loss function to use\n",
    "* Gather information on resource, constraints, assumptions, risks etc\n",
    "* Gather information on resource, constraints, assumptions, risks etc\n",
    "*   Prepare Work Flow Chart"
   ]
  },
  {
   "cell_type": "markdown",
   "metadata": {
    "id": "J4MwiCYzj2_u"
   },
   "source": [
    "### Write the main objectives of this project in your words?\n",
    "minimum of 100 characters"
   ]
  },
  {
   "cell_type": "code",
   "execution_count": 3,
   "metadata": {
    "executionInfo": {
     "elapsed": 644,
     "status": "ok",
     "timestamp": 1624077621474,
     "user": {
      "displayName": "Mahlet Taye",
      "photoUrl": "",
      "userId": "08172124621047273189"
     },
     "user_tz": -180
    },
    "id": "STyLda45j1Mf"
   },
   "outputs": [],
   "source": [
    "main_objectives ='''\n",
    "The aim of the project is based on the given data set attributes to identify the attributes that have a major impact on attrition and predict which employees are going to leave based on the trends in the data set.\n",
    "'''"
   ]
  },
  {
   "cell_type": "code",
   "execution_count": 4,
   "metadata": {
    "executionInfo": {
     "elapsed": 8,
     "status": "ok",
     "timestamp": 1624077621946,
     "user": {
      "displayName": "Mahlet Taye",
      "photoUrl": "",
      "userId": "08172124621047273189"
     },
     "user_tz": -180
    },
    "id": "CuOlxLxKMOLI"
   },
   "outputs": [],
   "source": [
    "assert len(main_objectives) > 100 \n",
    "### BEGIN HIDDEN TESTS\n",
    "assert len(main_objectives) > 80 \n",
    "### END HIDDEN TESTS"
   ]
  },
  {
   "cell_type": "markdown",
   "metadata": {
    "id": "NyXeNxlCkbaw"
   },
   "source": [
    "### Outline the different data analysis steps you will follow to carry out the project"
   ]
  },
  {
   "cell_type": "code",
   "execution_count": 5,
   "metadata": {
    "id": "rC-tl8sUksQq"
   },
   "outputs": [],
   "source": [
    "dm_outline = '''\n",
    "1. Business Understanding \n",
    "    -While analyzing the data for the X company  we should have clear overview and understanding of the company what it does, \n",
    "    what kind of decision they are going to make, for which purpose the data is being analyzed.\n",
    "    -In our case, the company wants to analyze the data with the aim to control attrition and to understand the reasons \n",
    "    why employees leave the company.\n",
    "2.Acquire the Raw Data\n",
    "    -Data is collected from the different source.\n",
    "    -In our case we specifically have two sets of data \"Existing employees\" and \"Employees who have left\"\n",
    "3. Extract the Data\n",
    "    -This is the step where data is extracted to create a final data set.\n",
    "    that will allow us to leads the further analyzing process this is a clean data set. \n",
    "4. Transform the Data\n",
    "    Data transformation is the process of converting the data or dataset from on state or structure to another state structure, \n",
    "    it is the fundamental state of data integration where the data collected from different sources have been integrated \n",
    "    into particular structured data in such manner that it can be used at a destination for analysis process \n",
    "    this process is known as ETL(Extract Transform Load).\n",
    "5. Data Visualization\n",
    "    After building or creating the datasets, we need to visualize data to develop our Hypothesis or Insights to explore and \n",
    "    evaluate the data. \n",
    "6. Statical Analysis\n",
    "    -it is the important aspects of data analysis which summarize the data and it’s understanding in terms of model and graphs\n",
    "    apart from this it also explains how the data is related to the underlying real world. \n",
    "    the statical analysis is also used to identifying the pattern or trends for predictive analytics which helps to make \n",
    "    the business decision, it also helps to determine the statical significance of the data set.\n",
    "    -most of the attributes in our data set are numeric or boolean and finding or grouping this data set will help us in making \n",
    "    prediction\n",
    "7. Data Model Development\n",
    "    -the next step is building a model that will answer the business problem and \n",
    "    iterating over different algorithms to solve the business problem\n",
    "8. Recommendations/Report/Story\n",
    "    -This is the final step of the data analytics process where analysis decision is summarized and the result or \n",
    "    consequences of the analysis process is represented in terms of story, report, recommendations and PPT, \n",
    "    tableau and SAS application plays an important role to summarize the analysis process via a report or story building,\n",
    "'''"
   ]
  },
  {
   "cell_type": "code",
   "execution_count": null,
   "metadata": {
    "id": "-K1mWuDoksTk"
   },
   "outputs": [],
   "source": [
    "assert len(dm_outline) > 100 \n",
    "### BEGIN HIDDEN TESTS\n",
    "assert len(dm_outline) > 70 \n",
    "### END HIDDEN TESTS"
   ]
  },
  {
   "cell_type": "markdown",
   "metadata": {
    "id": "pmUDFG1wkzUy"
   },
   "source": [
    "### What metrics will you use to measure the performance of your data analysis model? \n",
    "Write the equations of the metrics here"
   ]
  },
  {
   "cell_type": "markdown",
   "metadata": {
    "id": "KCNulojKk_BP"
   },
   "source": [
    " Recall= $\\frac{TP}{(TP + FN)}$\n",
    "\n"
   ]
  },
  {
   "cell_type": "markdown",
   "metadata": {
    "id": "vLS2YHoRk_EK"
   },
   "source": [
    "Why do you choose these metrics? minimum of 100 characters"
   ]
  },
  {
   "cell_type": "code",
   "execution_count": null,
   "metadata": {
    "id": "LSynT14KlPSJ"
   },
   "outputs": [],
   "source": [
    "why_metrics = '''\n",
    "I choose recall becase in recall the idea of false positive is far better than false negatives, in other words,\n",
    "if the occurrence of false negatives is Unaccepted/intolerabel, that we would rather get some extra flase positives(false alarms)\n",
    "over saving some false negatives, like in our example, we would rather get some employee\n",
    "labeled as prone to leaving in fact they are staying over leaving employees who are going to \n",
    "leave as labeled as staying.\n",
    "'''"
   ]
  },
  {
   "cell_type": "code",
   "execution_count": null,
   "metadata": {
    "id": "yr-Mk0E8lPVJ"
   },
   "outputs": [],
   "source": [
    "assert len(why_metrics) > 100 \n",
    "### BEGIN HIDDEN TESTS\n",
    "assert len(why_metrics) > 80 \n",
    "### END HIDDEN TESTS"
   ]
  },
  {
   "cell_type": "markdown",
   "metadata": {
    "id": "aAo19Ip6lUtm"
   },
   "source": [
    "### How would you know if your data analysis work is a success or not?\n",
    "minimum of 100 characters"
   ]
  },
  {
   "cell_type": "code",
   "execution_count": 6,
   "metadata": {
    "id": "HESsiXW5llX-"
   },
   "outputs": [],
   "source": [
    "how_success = '''\n",
    "I would say my data anlysis works or successful if it can determine the major impact for attrition and predicts correctly which \n",
    "employee is going to leave and the reason for that.\n",
    "'''"
   ]
  },
  {
   "cell_type": "code",
   "execution_count": 7,
   "metadata": {
    "id": "FdUoiMIOlmXq"
   },
   "outputs": [],
   "source": [
    "assert len(how_success) > 100 \n",
    "### BEGIN HIDDEN TESTS\n",
    "assert len(how_success) > 80 \n",
    "### END HIDDEN TESTS"
   ]
  },
  {
   "cell_type": "markdown",
   "metadata": {
    "id": "DQE6dqo6l1TZ"
   },
   "source": [
    "## What kind of challenges do you expect in your analysis?\n",
    "List at least 3 challenges"
   ]
  },
  {
   "cell_type": "code",
   "execution_count": 8,
   "metadata": {
    "id": "WrAhBQhQl8Lh"
   },
   "outputs": [],
   "source": [
    "challenge_text = '''\n",
    "1.Poor quality data\n",
    "Nothing is more harmful to data analytics than inaccurate data. \n",
    "Without good input, output will be unreliable. A key cause of inaccurate data is manual errors made during data entry.\n",
    "2.Lack of support\n",
    "this study might show the defects of the top excutives and this might impact the process\n",
    "3.Shortage of skills\n",
    "'''"
   ]
  },
  {
   "cell_type": "code",
   "execution_count": 9,
   "metadata": {
    "id": "EedHa-Pll8X7"
   },
   "outputs": [],
   "source": [
    "assert len(challenge_text) > 100 \n",
    "### BEGIN HIDDEN TESTS\n",
    "assert len(how_success) > 80 \n",
    "### END HIDDEN TESTS"
   ]
  },
  {
   "cell_type": "markdown",
   "metadata": {},
   "source": [
    "<h2>Using the processed twitter data from yesterday's challenge</h2>.\n",
    "\n",
    "\n",
    "- Form a new data frame (named `cleanTweet`), containing columns $\\textbf{clean-text}$ and $\\textbf{polarity}$.\n",
    "\n",
    "- Write a function `text_category` that takes a value `p` and returns, depending on the value of p, a string `'positive'`, `'negative'` or `'neutral'`.\n",
    "\n",
    "- Apply this function (`text_category`) on the $\\textbf{polarity}$ column of `cleanTweet` in 1 above to form a new column called $\\textbf{score}$ in `cleanTweet`.\n",
    "\n",
    "- Visualize The $\\textbf{score}$ column using piechart and barchart\n",
    "\n",
    "<h5>Now we want to build a classification model on the clean tweet following the steps below:</h5>\n",
    "\n",
    "* Remove rows from `cleanTweet` where $\\textbf{polarity}$ $= 0$ (i.e where $\\textbf{score}$ = Neutral) and reset the frame index.\n",
    "* Construct a column $\\textbf{scoremap}$ Use the mapping {'positive':1, 'negative':0} on the $\\textbf{score}$ column\n",
    "* Create feature and target variables `(X,y)` from $\\textbf{clean-text}$ and $\\textbf{scoremap}$ columns respectively.\n",
    "* Use `train_test_split` function to construct `(X_train, y_train)` and `(X_test, y_test)` from `(X,y)`\n",
    "\n",
    "* Build an `SGDClassifier` model from the vectorize train text data. Use `CountVectorizer()` with a $\\textit{trigram}$ parameter.\n",
    "\n",
    "* Evaluate your model on the test data.\n"
   ]
  },
  {
   "cell_type": "markdown",
   "metadata": {},
   "source": [
    "### Form a new data frame (named cleanTweet), containing columns  𝐜𝐥𝐞𝐚𝐧-𝐭𝐞𝐱𝐭  and  𝐩𝐨𝐥𝐚𝐫𝐢𝐭𝐲 ."
   ]
  },
  {
   "cell_type": "code",
   "execution_count": 2,
   "metadata": {},
   "outputs": [],
   "source": [
    "#importing prerequisite libraries\n",
    "\n",
    "import pandas as pd\n",
    "import numpy as np"
   ]
  },
  {
   "cell_type": "code",
   "execution_count": 9,
   "metadata": {},
   "outputs": [
    {
     "data": {
      "text/html": [
       "<div>\n",
       "<style scoped>\n",
       "    .dataframe tbody tr th:only-of-type {\n",
       "        vertical-align: middle;\n",
       "    }\n",
       "\n",
       "    .dataframe tbody tr th {\n",
       "        vertical-align: top;\n",
       "    }\n",
       "\n",
       "    .dataframe thead th {\n",
       "        text-align: right;\n",
       "    }\n",
       "</style>\n",
       "<table border=\"1\" class=\"dataframe\">\n",
       "  <thead>\n",
       "    <tr style=\"text-align: right;\">\n",
       "      <th></th>\n",
       "      <th>Unnamed: 0</th>\n",
       "      <th>created_at</th>\n",
       "      <th>source</th>\n",
       "      <th>original_text</th>\n",
       "      <th>polarity</th>\n",
       "      <th>subjectivity</th>\n",
       "      <th>lang</th>\n",
       "      <th>favorite_count</th>\n",
       "      <th>retweet_count</th>\n",
       "      <th>original_author</th>\n",
       "      <th>followers_count</th>\n",
       "      <th>friends_count</th>\n",
       "      <th>possibly_sensitive</th>\n",
       "      <th>hashtags</th>\n",
       "      <th>user_mentions</th>\n",
       "      <th>place</th>\n",
       "    </tr>\n",
       "  </thead>\n",
       "  <tbody>\n",
       "    <tr>\n",
       "      <th>1115</th>\n",
       "      <td>1115</td>\n",
       "      <td>Fri Jun 18 19:21:03 +0000 2021</td>\n",
       "      <td>&lt;a href=\"https://mobile.twitter.com\" rel=\"nofo...</td>\n",
       "      <td>The timely delivery of #COVID19 vaccines is cr...</td>\n",
       "      <td>0.350000</td>\n",
       "      <td>0.744444</td>\n",
       "      <td>en</td>\n",
       "      <td>226</td>\n",
       "      <td>93</td>\n",
       "      <td>krauss64</td>\n",
       "      <td>70</td>\n",
       "      <td>141</td>\n",
       "      <td>NaN</td>\n",
       "      <td>[{'text': 'COVID19', 'indices': [42, 50]}]</td>\n",
       "      <td>[{'screen_name': 'SKyriakidesEU', 'name': 'Ste...</td>\n",
       "      <td>St Malo</td>\n",
       "    </tr>\n",
       "    <tr>\n",
       "      <th>1211</th>\n",
       "      <td>1211</td>\n",
       "      <td>Fri Jun 18 19:29:18 +0000 2021</td>\n",
       "      <td>&lt;a href=\"https://mobile.twitter.com\" rel=\"nofo...</td>\n",
       "      <td>It was great to speak with the #Jewish communi...</td>\n",
       "      <td>0.400000</td>\n",
       "      <td>0.375000</td>\n",
       "      <td>en</td>\n",
       "      <td>14</td>\n",
       "      <td>6</td>\n",
       "      <td>StarColombo</td>\n",
       "      <td>2676</td>\n",
       "      <td>4926</td>\n",
       "      <td>NaN</td>\n",
       "      <td>[{'text': 'Jewish', 'indices': [50, 57]}, {'te...</td>\n",
       "      <td>[{'screen_name': 'EyalDavid_mfa', 'name': 'Eya...</td>\n",
       "      <td>NaN</td>\n",
       "    </tr>\n",
       "    <tr>\n",
       "      <th>1598</th>\n",
       "      <td>1598</td>\n",
       "      <td>Fri Jun 18 20:04:20 +0000 2021</td>\n",
       "      <td>&lt;a href=\"http://twitter.com/download/android\" ...</td>\n",
       "      <td>Vaccines donated next year will be ‘too late f...</td>\n",
       "      <td>-0.150000</td>\n",
       "      <td>0.300000</td>\n",
       "      <td>en</td>\n",
       "      <td>7</td>\n",
       "      <td>5</td>\n",
       "      <td>kivumbi_jamil</td>\n",
       "      <td>60</td>\n",
       "      <td>662</td>\n",
       "      <td>NaN</td>\n",
       "      <td>[]</td>\n",
       "      <td>[{'screen_name': 'UN_News_Centre', 'name': 'UN...</td>\n",
       "      <td>NaN</td>\n",
       "    </tr>\n",
       "    <tr>\n",
       "      <th>3022</th>\n",
       "      <td>3022</td>\n",
       "      <td>Fri Jun 18 23:01:56 +0000 2021</td>\n",
       "      <td>&lt;a href=\"http://twitter.com/download/android\" ...</td>\n",
       "      <td>New York is fully open and Michigan will be fu...</td>\n",
       "      <td>0.034091</td>\n",
       "      <td>0.488636</td>\n",
       "      <td>en</td>\n",
       "      <td>242</td>\n",
       "      <td>86</td>\n",
       "      <td>CountryGardener</td>\n",
       "      <td>6131</td>\n",
       "      <td>1891</td>\n",
       "      <td>NaN</td>\n",
       "      <td>[]</td>\n",
       "      <td>[{'screen_name': 'Milhouse_Van_Ho', 'name': 'M...</td>\n",
       "      <td>Ontario, Canada</td>\n",
       "    </tr>\n",
       "    <tr>\n",
       "      <th>3115</th>\n",
       "      <td>3115</td>\n",
       "      <td>Fri Jun 18 23:15:24 +0000 2021</td>\n",
       "      <td>&lt;a href=\"http://twitter.com/download/iphone\" r...</td>\n",
       "      <td>New York is fully open and Michigan will be fu...</td>\n",
       "      <td>0.034091</td>\n",
       "      <td>0.488636</td>\n",
       "      <td>en</td>\n",
       "      <td>256</td>\n",
       "      <td>92</td>\n",
       "      <td>matt8111</td>\n",
       "      <td>200</td>\n",
       "      <td>607</td>\n",
       "      <td>NaN</td>\n",
       "      <td>[]</td>\n",
       "      <td>[{'screen_name': 'Milhouse_Van_Ho', 'name': 'M...</td>\n",
       "      <td>Georgian Bluffs, Ontario</td>\n",
       "    </tr>\n",
       "  </tbody>\n",
       "</table>\n",
       "</div>"
      ],
      "text/plain": [
       "      Unnamed: 0                      created_at  \\\n",
       "1115        1115  Fri Jun 18 19:21:03 +0000 2021   \n",
       "1211        1211  Fri Jun 18 19:29:18 +0000 2021   \n",
       "1598        1598  Fri Jun 18 20:04:20 +0000 2021   \n",
       "3022        3022  Fri Jun 18 23:01:56 +0000 2021   \n",
       "3115        3115  Fri Jun 18 23:15:24 +0000 2021   \n",
       "\n",
       "                                                 source  \\\n",
       "1115  <a href=\"https://mobile.twitter.com\" rel=\"nofo...   \n",
       "1211  <a href=\"https://mobile.twitter.com\" rel=\"nofo...   \n",
       "1598  <a href=\"http://twitter.com/download/android\" ...   \n",
       "3022  <a href=\"http://twitter.com/download/android\" ...   \n",
       "3115  <a href=\"http://twitter.com/download/iphone\" r...   \n",
       "\n",
       "                                          original_text  polarity  \\\n",
       "1115  The timely delivery of #COVID19 vaccines is cr...  0.350000   \n",
       "1211  It was great to speak with the #Jewish communi...  0.400000   \n",
       "1598  Vaccines donated next year will be ‘too late f... -0.150000   \n",
       "3022  New York is fully open and Michigan will be fu...  0.034091   \n",
       "3115  New York is fully open and Michigan will be fu...  0.034091   \n",
       "\n",
       "      subjectivity lang  favorite_count  retweet_count  original_author  \\\n",
       "1115      0.744444   en             226             93         krauss64   \n",
       "1211      0.375000   en              14              6      StarColombo   \n",
       "1598      0.300000   en               7              5    kivumbi_jamil   \n",
       "3022      0.488636   en             242             86  CountryGardener   \n",
       "3115      0.488636   en             256             92         matt8111   \n",
       "\n",
       "      followers_count  friends_count possibly_sensitive  \\\n",
       "1115               70            141                NaN   \n",
       "1211             2676           4926                NaN   \n",
       "1598               60            662                NaN   \n",
       "3022             6131           1891                NaN   \n",
       "3115              200            607                NaN   \n",
       "\n",
       "                                               hashtags  \\\n",
       "1115         [{'text': 'COVID19', 'indices': [42, 50]}]   \n",
       "1211  [{'text': 'Jewish', 'indices': [50, 57]}, {'te...   \n",
       "1598                                                 []   \n",
       "3022                                                 []   \n",
       "3115                                                 []   \n",
       "\n",
       "                                          user_mentions  \\\n",
       "1115  [{'screen_name': 'SKyriakidesEU', 'name': 'Ste...   \n",
       "1211  [{'screen_name': 'EyalDavid_mfa', 'name': 'Eya...   \n",
       "1598  [{'screen_name': 'UN_News_Centre', 'name': 'UN...   \n",
       "3022  [{'screen_name': 'Milhouse_Van_Ho', 'name': 'M...   \n",
       "3115  [{'screen_name': 'Milhouse_Van_Ho', 'name': 'M...   \n",
       "\n",
       "                         place  \n",
       "1115                   St Malo  \n",
       "1211                       NaN  \n",
       "1598                       NaN  \n",
       "3022           Ontario, Canada  \n",
       "3115  Georgian Bluffs, Ontario  "
      ]
     },
     "execution_count": 9,
     "metadata": {},
     "output_type": "execute_result"
    }
   ],
   "source": [
    "clean_tweet_file=('clean_tweet.csv')\n",
    "tweet_df=pd.read_csv(clean_tweet_file)\n",
    "tweet_df.sample(5)"
   ]
  },
  {
   "cell_type": "code",
   "execution_count": 11,
   "metadata": {},
   "outputs": [
    {
     "data": {
      "text/html": [
       "<div>\n",
       "<style scoped>\n",
       "    .dataframe tbody tr th:only-of-type {\n",
       "        vertical-align: middle;\n",
       "    }\n",
       "\n",
       "    .dataframe tbody tr th {\n",
       "        vertical-align: top;\n",
       "    }\n",
       "\n",
       "    .dataframe thead th {\n",
       "        text-align: right;\n",
       "    }\n",
       "</style>\n",
       "<table border=\"1\" class=\"dataframe\">\n",
       "  <thead>\n",
       "    <tr style=\"text-align: right;\">\n",
       "      <th></th>\n",
       "      <th>clean-text</th>\n",
       "      <th>polarity</th>\n",
       "    </tr>\n",
       "  </thead>\n",
       "  <tbody>\n",
       "    <tr>\n",
       "      <th>3189</th>\n",
       "      <td>Hi @idriselba \\nDid you get well against #COVI...</td>\n",
       "      <td>0.000000</td>\n",
       "    </tr>\n",
       "    <tr>\n",
       "      <th>1689</th>\n",
       "      <td>\"Africa needs millions more doses here &amp;amp; n...</td>\n",
       "      <td>0.166667</td>\n",
       "    </tr>\n",
       "    <tr>\n",
       "      <th>6392</th>\n",
       "      <td>#COVID19 cases in #Africa are increasing by ov...</td>\n",
       "      <td>0.000000</td>\n",
       "    </tr>\n",
       "    <tr>\n",
       "      <th>4685</th>\n",
       "      <td>Pin Code:[411014] \\nGalande Hospital Nagar Rd ...</td>\n",
       "      <td>-0.750000</td>\n",
       "    </tr>\n",
       "    <tr>\n",
       "      <th>5689</th>\n",
       "      <td>By 6/1/21, 1.93 billion #COVID19 vaccines had ...</td>\n",
       "      <td>0.500000</td>\n",
       "    </tr>\n",
       "  </tbody>\n",
       "</table>\n",
       "</div>"
      ],
      "text/plain": [
       "                                             clean-text  polarity\n",
       "3189  Hi @idriselba \\nDid you get well against #COVI...  0.000000\n",
       "1689  \"Africa needs millions more doses here &amp; n...  0.166667\n",
       "6392  #COVID19 cases in #Africa are increasing by ov...  0.000000\n",
       "4685  Pin Code:[411014] \\nGalande Hospital Nagar Rd ... -0.750000\n",
       "5689  By 6/1/21, 1.93 billion #COVID19 vaccines had ...  0.500000"
      ]
     },
     "execution_count": 11,
     "metadata": {},
     "output_type": "execute_result"
    }
   ],
   "source": [
    "cleanTweet = tweet_df[['original_text', 'polarity']].rename({'original_text': 'clean-text'}, axis=1)\n",
    "cleanTweet.sample(5)"
   ]
  },
  {
   "cell_type": "markdown",
   "metadata": {},
   "source": [
    "### Write a function text_category that takes a value p and returns, depending on the value of p, a string 'positive', 'negative' or 'neutral'."
   ]
  },
  {
   "cell_type": "code",
   "execution_count": 12,
   "metadata": {},
   "outputs": [],
   "source": [
    "def text_catagory(p):\n",
    "    if p > 0:\n",
    "        return 'positive'\n",
    "    elif p < 0:\n",
    "        return 'negative'\n",
    "    else:\n",
    "        return 'neutral'"
   ]
  },
  {
   "cell_type": "markdown",
   "metadata": {},
   "source": [
    "### Apply this function (text_category) on the $\\textbf{polarity}$ column of cleanTweet in 1 above to form a new column called $\\textbf{score}$ in cleanTweet."
   ]
  },
  {
   "cell_type": "code",
   "execution_count": 13,
   "metadata": {
    "scrolled": true
   },
   "outputs": [
    {
     "data": {
      "text/html": [
       "<div>\n",
       "<style scoped>\n",
       "    .dataframe tbody tr th:only-of-type {\n",
       "        vertical-align: middle;\n",
       "    }\n",
       "\n",
       "    .dataframe tbody tr th {\n",
       "        vertical-align: top;\n",
       "    }\n",
       "\n",
       "    .dataframe thead th {\n",
       "        text-align: right;\n",
       "    }\n",
       "</style>\n",
       "<table border=\"1\" class=\"dataframe\">\n",
       "  <thead>\n",
       "    <tr style=\"text-align: right;\">\n",
       "      <th></th>\n",
       "      <th>clean-text</th>\n",
       "      <th>polarity</th>\n",
       "      <th>score</th>\n",
       "    </tr>\n",
       "  </thead>\n",
       "  <tbody>\n",
       "    <tr>\n",
       "      <th>5533</th>\n",
       "      <td>2/ The Delta variant should pose little threat...</td>\n",
       "      <td>-0.193750</td>\n",
       "      <td>negative</td>\n",
       "    </tr>\n",
       "    <tr>\n",
       "      <th>5889</th>\n",
       "      <td>Pin Code:[411038] \\nJayabai Sutar Hospital PMC...</td>\n",
       "      <td>-0.750000</td>\n",
       "      <td>negative</td>\n",
       "    </tr>\n",
       "    <tr>\n",
       "      <th>405</th>\n",
       "      <td>We are dying! Ugandans need the world to stand...</td>\n",
       "      <td>0.000000</td>\n",
       "      <td>neutral</td>\n",
       "    </tr>\n",
       "    <tr>\n",
       "      <th>5939</th>\n",
       "      <td>A woman in #Bihar received two doses of #Covis...</td>\n",
       "      <td>0.000000</td>\n",
       "      <td>neutral</td>\n",
       "    </tr>\n",
       "    <tr>\n",
       "      <th>2475</th>\n",
       "      <td>South Africa has recorded 10 510 new #coronavi...</td>\n",
       "      <td>0.068182</td>\n",
       "      <td>positive</td>\n",
       "    </tr>\n",
       "  </tbody>\n",
       "</table>\n",
       "</div>"
      ],
      "text/plain": [
       "                                             clean-text  polarity     score\n",
       "5533  2/ The Delta variant should pose little threat... -0.193750  negative\n",
       "5889  Pin Code:[411038] \\nJayabai Sutar Hospital PMC... -0.750000  negative\n",
       "405   We are dying! Ugandans need the world to stand...  0.000000   neutral\n",
       "5939  A woman in #Bihar received two doses of #Covis...  0.000000   neutral\n",
       "2475  South Africa has recorded 10 510 new #coronavi...  0.068182  positive"
      ]
     },
     "execution_count": 13,
     "metadata": {},
     "output_type": "execute_result"
    }
   ],
   "source": [
    "cleanTweet['score'] = cleanTweet[\"polarity\"].map(text_catagory)\n",
    "cleanTweet.sample(5)"
   ]
  },
  {
   "cell_type": "markdown",
   "metadata": {},
   "source": [
    "### Visualize The $\\textbf{score}$ column using piechart and barchart"
   ]
  },
  {
   "cell_type": "code",
   "execution_count": 15,
   "metadata": {},
   "outputs": [],
   "source": [
    "import matplotlib.pyplot as plt"
   ]
  },
  {
   "cell_type": "code",
   "execution_count": 18,
   "metadata": {},
   "outputs": [
    {
     "data": {
      "text/plain": [
       "<AxesSubplot:xlabel='score'>"
      ]
     },
     "execution_count": 18,
     "metadata": {},
     "output_type": "execute_result"
    },
    {
     "data": {
      "image/png": "[encoded data removed]",
      "text/plain": [
       "<Figure size 720x720 with 1 Axes>"
      ]
     },
     "metadata": {
      "needs_background": "light"
     },
     "output_type": "display_data"
    }
   ],
   "source": [
    "# visualize using BarChart\n",
    "fig,axis=plt.subplots(figsize=(10,10))\n",
    "cleanTweet.groupby('score')['clean-text'].count().plot.bar(ax=axis)"
   ]
  },
  {
   "cell_type": "code",
   "execution_count": 19,
   "metadata": {},
   "outputs": [
    {
     "data": {
      "text/plain": [
       "<AxesSubplot:ylabel='clean-text'>"
      ]
     },
     "execution_count": 19,
     "metadata": {},
     "output_type": "execute_result"
    },
    {
     "data": {
      "image/png": "[encoded data removed]",
      "text/plain": [
       "<Figure size 720x720 with 1 Axes>"
      ]
     },
     "metadata": {},
     "output_type": "display_data"
    }
   ],
   "source": [
    "# visualize using PieChart\n",
    "fig,axis=plt.subplots(figsize=(10,10))\n",
    "cleanTweet.groupby('score')['clean-text'].count().plot.pie(ax=axis)"
   ]
  },
  {
   "cell_type": "markdown",
   "metadata": {},
   "source": [
    "### Remove rows from cleanTweet where $\\textbf{polarity}$ $= 0$ (i.e where $\\textbf{score}$ = Neutral) and reset the frame index."
   ]
  },
  {
   "cell_type": "code",
   "execution_count": 20,
   "metadata": {},
   "outputs": [
    {
     "data": {
      "text/html": [
       "<div>\n",
       "<style scoped>\n",
       "    .dataframe tbody tr th:only-of-type {\n",
       "        vertical-align: middle;\n",
       "    }\n",
       "\n",
       "    .dataframe tbody tr th {\n",
       "        vertical-align: top;\n",
       "    }\n",
       "\n",
       "    .dataframe thead th {\n",
       "        text-align: right;\n",
       "    }\n",
       "</style>\n",
       "<table border=\"1\" class=\"dataframe\">\n",
       "  <thead>\n",
       "    <tr style=\"text-align: right;\">\n",
       "      <th></th>\n",
       "      <th>clean-text</th>\n",
       "      <th>polarity</th>\n",
       "      <th>score</th>\n",
       "    </tr>\n",
       "  </thead>\n",
       "  <tbody>\n",
       "    <tr>\n",
       "      <th>1231</th>\n",
       "      <td>I’m pleased to welcome the #WeCanDoThis bus to...</td>\n",
       "      <td>0.644444</td>\n",
       "      <td>positive</td>\n",
       "    </tr>\n",
       "    <tr>\n",
       "      <th>3398</th>\n",
       "      <td>9) While the vaccines do mostly work on the #D...</td>\n",
       "      <td>0.222222</td>\n",
       "      <td>positive</td>\n",
       "    </tr>\n",
       "    <tr>\n",
       "      <th>2120</th>\n",
       "      <td>\"The global failure to share vaccines equitabl...</td>\n",
       "      <td>-0.158333</td>\n",
       "      <td>negative</td>\n",
       "    </tr>\n",
       "    <tr>\n",
       "      <th>1899</th>\n",
       "      <td>#MUSTHEAR #ReinerFuellmich #DrPeterMcCullough ...</td>\n",
       "      <td>0.136364</td>\n",
       "      <td>positive</td>\n",
       "    </tr>\n",
       "    <tr>\n",
       "      <th>701</th>\n",
       "      <td>South Africa has recorded 10 510 new #coronavi...</td>\n",
       "      <td>0.068182</td>\n",
       "      <td>positive</td>\n",
       "    </tr>\n",
       "  </tbody>\n",
       "</table>\n",
       "</div>"
      ],
      "text/plain": [
       "                                             clean-text  polarity     score\n",
       "1231  I’m pleased to welcome the #WeCanDoThis bus to...  0.644444  positive\n",
       "3398  9) While the vaccines do mostly work on the #D...  0.222222  positive\n",
       "2120  \"The global failure to share vaccines equitabl... -0.158333  negative\n",
       "1899  #MUSTHEAR #ReinerFuellmich #DrPeterMcCullough ...  0.136364  positive\n",
       "701   South Africa has recorded 10 510 new #coronavi...  0.068182  positive"
      ]
     },
     "execution_count": 20,
     "metadata": {},
     "output_type": "execute_result"
    }
   ],
   "source": [
    "cleanTweet = cleanTweet[cleanTweet['polarity'] != 0]\n",
    "cleanTweet.reset_index(drop=True, inplace=True)\n",
    "cleanTweet.sample(5)"
   ]
  },
  {
   "cell_type": "markdown",
   "metadata": {},
   "source": [
    "### Construct a column $\\textbf{scoremap}$ Use the mapping {'positive':1, 'negative':0} on the $\\textbf{score}$ column"
   ]
  },
  {
   "cell_type": "code",
   "execution_count": 21,
   "metadata": {},
   "outputs": [
    {
     "data": {
      "text/html": [
       "<div>\n",
       "<style scoped>\n",
       "    .dataframe tbody tr th:only-of-type {\n",
       "        vertical-align: middle;\n",
       "    }\n",
       "\n",
       "    .dataframe tbody tr th {\n",
       "        vertical-align: top;\n",
       "    }\n",
       "\n",
       "    .dataframe thead th {\n",
       "        text-align: right;\n",
       "    }\n",
       "</style>\n",
       "<table border=\"1\" class=\"dataframe\">\n",
       "  <thead>\n",
       "    <tr style=\"text-align: right;\">\n",
       "      <th></th>\n",
       "      <th>clean-text</th>\n",
       "      <th>polarity</th>\n",
       "      <th>score</th>\n",
       "      <th>scoremap</th>\n",
       "    </tr>\n",
       "  </thead>\n",
       "  <tbody>\n",
       "    <tr>\n",
       "      <th>3043</th>\n",
       "      <td>How do we know #COVID19 vaccines are safe?\\n\\n...</td>\n",
       "      <td>0.500000</td>\n",
       "      <td>positive</td>\n",
       "      <td>1</td>\n",
       "    </tr>\n",
       "    <tr>\n",
       "      <th>2022</th>\n",
       "      <td>I’m pleased to welcome the #WeCanDoThis bus to...</td>\n",
       "      <td>0.644444</td>\n",
       "      <td>positive</td>\n",
       "      <td>1</td>\n",
       "    </tr>\n",
       "    <tr>\n",
       "      <th>3548</th>\n",
       "      <td>Excellent work from the Head of our Notifiable...</td>\n",
       "      <td>0.500000</td>\n",
       "      <td>positive</td>\n",
       "      <td>1</td>\n",
       "    </tr>\n",
       "    <tr>\n",
       "      <th>1672</th>\n",
       "      <td>How do we know #COVID19 vaccines are safe?\\n\\n...</td>\n",
       "      <td>0.500000</td>\n",
       "      <td>positive</td>\n",
       "      <td>1</td>\n",
       "    </tr>\n",
       "    <tr>\n",
       "      <th>3713</th>\n",
       "      <td>Basic Education Minister Angie Motshekga is ex...</td>\n",
       "      <td>-0.050000</td>\n",
       "      <td>negative</td>\n",
       "      <td>0</td>\n",
       "    </tr>\n",
       "  </tbody>\n",
       "</table>\n",
       "</div>"
      ],
      "text/plain": [
       "                                             clean-text  polarity     score  \\\n",
       "3043  How do we know #COVID19 vaccines are safe?\\n\\n...  0.500000  positive   \n",
       "2022  I’m pleased to welcome the #WeCanDoThis bus to...  0.644444  positive   \n",
       "3548  Excellent work from the Head of our Notifiable...  0.500000  positive   \n",
       "1672  How do we know #COVID19 vaccines are safe?\\n\\n...  0.500000  positive   \n",
       "3713  Basic Education Minister Angie Motshekga is ex... -0.050000  negative   \n",
       "\n",
       "      scoremap  \n",
       "3043         1  \n",
       "2022         1  \n",
       "3548         1  \n",
       "1672         1  \n",
       "3713         0  "
      ]
     },
     "execution_count": 21,
     "metadata": {},
     "output_type": "execute_result"
    }
   ],
   "source": [
    "def get_mapscore(value):\n",
    "    return 1 if (value == 'positive') else 0\n",
    "cleanTweet['scoremap'] = cleanTweet['score'].map(get_mapscore)\n",
    "cleanTweet.sample(5)"
   ]
  },
  {
   "cell_type": "markdown",
   "metadata": {},
   "source": [
    "### Create feature and target variables (X,y) from $\\textbf{clean-text}$ and $\\textbf{scoremap}$ columns respectively."
   ]
  },
  {
   "cell_type": "code",
   "execution_count": 23,
   "metadata": {},
   "outputs": [],
   "source": [
    "X = cleanTweet['clean-text']\n",
    "y = cleanTweet['scoremap']"
   ]
  },
  {
   "cell_type": "markdown",
   "metadata": {},
   "source": [
    "### Use train_test_split function to construct (X_train, y_train) and (X_test, y_test) from (X,y)"
   ]
  },
  {
   "cell_type": "code",
   "execution_count": 25,
   "metadata": {},
   "outputs": [],
   "source": [
    "from sklearn.model_selection import train_test_split\n",
    "x_train, x_test, y_train, y_test = train_test_split(X, y)"
   ]
  },
  {
   "cell_type": "markdown",
   "metadata": {},
   "source": [
    "### Build an SGDClassifier model from the vectorize train text data. Use CountVectorizer() with a $\\textit{trigram}$ parameter."
   ]
  },
  {
   "cell_type": "code",
   "execution_count": 26,
   "metadata": {},
   "outputs": [],
   "source": [
    "from sklearn.linear_model import SGDClassifier\n",
    "from sklearn.feature_extraction.text import CountVectorizer\n",
    "from sklearn.metrics import accuracy_score\n",
    "from sklearn. metrics import classification_report\n",
    "from sklearn.metrics import confusion_matrix\n",
    "from sklearn.pipeline import Pipeline\n",
    "from sklearn.feature_extraction.text import TfidfTransformer"
   ]
  },
  {
   "cell_type": "code",
   "execution_count": 27,
   "metadata": {},
   "outputs": [
    {
     "data": {
      "text/plain": [
       "<2930x13054 sparse matrix of type '<class 'numpy.int64'>'\n",
       "\twith 55433 stored elements in Compressed Sparse Row format>"
      ]
     },
     "execution_count": 27,
     "metadata": {},
     "output_type": "execute_result"
    }
   ],
   "source": [
    "cv = CountVectorizer(ngram_range=(3, 3))\n",
    "X_train_cv = cv.fit_transform(x_train)\n",
    "X_test_cv = cv.transform(x_test)\n",
    "X_train_cv"
   ]
  },
  {
   "cell_type": "code",
   "execution_count": 28,
   "metadata": {},
   "outputs": [],
   "source": [
    "clf = SGDClassifier()\n",
    "clf.fit(X_train_cv, y_train)\n",
    "predictions = clf.predict(X_test_cv)"
   ]
  },
  {
   "cell_type": "code",
   "execution_count": 29,
   "metadata": {},
   "outputs": [
    {
     "data": {
      "text/plain": [
       "array([[253,  34],\n",
       "       [  1, 689]], dtype=int64)"
      ]
     },
     "execution_count": 29,
     "metadata": {},
     "output_type": "execute_result"
    }
   ],
   "source": [
    "results = confusion_matrix(y_test, predictions) \n",
    "results"
   ]
  },
  {
   "cell_type": "code",
   "execution_count": 30,
   "metadata": {},
   "outputs": [
    {
     "data": {
      "text/plain": [
       "0.9641760491299898"
      ]
     },
     "execution_count": 30,
     "metadata": {},
     "output_type": "execute_result"
    }
   ],
   "source": [
    "# accuracy\n",
    "accuracy_score(y_test, predictions)"
   ]
  },
  {
   "cell_type": "code",
   "execution_count": 31,
   "metadata": {},
   "outputs": [
    {
     "name": "stdout",
     "output_type": "stream",
     "text": [
      "              precision    recall  f1-score   support\n",
      "\n",
      "           0       1.00      0.88      0.94       287\n",
      "           1       0.95      1.00      0.98       690\n",
      "\n",
      "    accuracy                           0.96       977\n",
      "   macro avg       0.97      0.94      0.96       977\n",
      "weighted avg       0.97      0.96      0.96       977\n",
      "\n"
     ]
    }
   ],
   "source": [
    "# Classification report\n",
    "print(classification_report(y_test, predictions))"
   ]
  },
  {
   "cell_type": "code",
   "execution_count": null,
   "metadata": {},
   "outputs": [],
   "source": []
  }
 ],
 "metadata": {
  "colab": {
   "authorship_tag": "ABX9TyO6PgFRMlUXDp0jxgb9maVi",
   "collapsed_sections": [],
   "mount_file_id": "15ve2DLGFsqNZcDbxKD5DqFSSGLNhKkR7",
   "name": "Challenge_ Day2.ipynb",
   "provenance": []
  },
  "kernelspec": {
   "display_name": "Python 3",
   "language": "python",
   "name": "python3"
  },
  "language_info": {
   "codemirror_mode": {
    "name": "ipython",
    "version": 3
   },
   "file_extension": ".py",
   "mimetype": "text/x-python",
   "name": "python",
   "nbconvert_exporter": "python",
   "pygments_lexer": "ipython3",
   "version": "3.8.3"
  }
 },
 "nbformat": 4,
 "nbformat_minor": 1
}
